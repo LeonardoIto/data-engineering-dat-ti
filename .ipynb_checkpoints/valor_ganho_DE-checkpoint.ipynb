{
 "cells": [
  {
   "cell_type": "code",
   "execution_count": 1,
   "metadata": {},
   "outputs": [
    {
     "name": "stdout",
     "output_type": "stream",
     "text": [
      "Leitura de dados\n",
      "Limpeza de dados\n",
      "Obtendo apenas contratos ativos\n",
      "Obtendo valor líquido de cada transação\n",
      "Juntando dados de transações e contratos\n",
      "Obtendo valor ganho com cada transação de acordo com o percentual no contrato ativo\n",
      "Obtendo somatória do valor ganho com todas as transações de acordo com o percentual no contrato ativo\n",
      "Valor Ganho: 845.4110000000001\n",
      "Valor Ganho (Formatado): 845.411\n"
     ]
    }
   ],
   "source": [
    "# -*- coding: utf-8 -*-\n",
    "\n",
    "from pyspark.sql import functions as F\n",
    "from pyspark.sql.types import StructType, StructField, DoubleType, IntegerType, BooleanType, StringType\n",
    "\n",
    "\n",
    "def init_spark():\n",
    "  return SparkSession.builder.appName(\"GanhoTotal\").getOrCreate()\n",
    "\n",
    "\n",
    "def massa_teste_transacoes():\n",
    "  schema = StructType([ \n",
    "    StructField(\"transaction_id\", IntegerType(), True),\n",
    "    StructField(\"client_id\", IntegerType(), True), \n",
    "    StructField(\"total_amount\", DoubleType(), True),\n",
    "    StructField(\"discount_percentage\", DoubleType(), True)])\n",
    "  df_arquivo = spark.read.csv(\"massa_teste_transacoes.csv\", header=False, nullValue='null', schema=schema, sep='|')\n",
    "  return df_arquivo\n",
    "\n",
    "\n",
    "def massa_teste_contratos():\n",
    "  schema = StructType([ \n",
    "    StructField(\"contract_id\", IntegerType(), True),\n",
    "    StructField(\"client_id\", IntegerType(), True), \n",
    "    StructField(\"client_name\", StringType(), True),\n",
    "    StructField(\"percentage\", DoubleType(), True),\n",
    "    StructField(\"is_active\", BooleanType(), True)])\n",
    "  df_arquivo = spark.read.csv(\"massa_teste_contratos.csv\", header=False, nullValue='null', schema=schema, sep='|')\n",
    "  return df_arquivo\n",
    "\n",
    "\n",
    "def main():\n",
    "  spark = init_spark()\n",
    "  # Olá! Tomei a liberdade de colocar a tabela em arquivos .csv separados por pipe para facilitar a alteração e inclusão de dados.\n",
    "\n",
    "  print('Leitura de dados')\n",
    "  df_transacoes = massa_teste_transacoes()\n",
    "  df_contratos = massa_teste_contratos()\n",
    "\n",
    "  print('Limpeza de dados')\n",
    "  df_transacoes = df_transacoes.na.fill(0)\n",
    "    \n",
    "  print('Obtendo apenas contratos ativos')\n",
    "  df_contratos_ativos = df_contratos.filter(df_contratos.is_active == True)\n",
    "\n",
    "  print('Obtendo valor líquido de cada transação')\n",
    "  df_transacoes_valor_liquido = df_transacoes.withColumn(\n",
    "      'valor_liquido', df_transacoes['total_amount'] - \n",
    "      (df_transacoes['total_amount'] * df_transacoes['discount_percentage'] / 100.0)\n",
    "  )\n",
    "    \n",
    "  print('Juntando dados de transações e contratos')\n",
    "  df_final = df_contratos_ativos.join(df_transacoes_valor_liquido, 'client_id')\n",
    "    \n",
    "  print('Obtendo valor ganho com cada transação de acordo com o percentual no contrato ativo')\n",
    "  df_final = df_final.withColumn('valor_ganho_pelo_contrato', df_final['valor_liquido'] * df_final['percentage'] / 100.0 )\n",
    "    \n",
    "  print('Obtendo somatória do valor ganho com todas as transações de acordo com o percentual no contrato ativo')\n",
    "  resultado = df_final.groupBy().agg(F.sum(df_final.valor_ganho_pelo_contrato)).collect()[0][0]\n",
    "\n",
    "  print('Valor Ganho: ' + str(resultado)) # PRINT utilizado para mostrar o resultado.\n",
    "  print('Valor Ganho (Formatado): ' + format(resultado, '.3f')) # PRINT utilizado para mostrar o resultado conforme indicado no pdf do teste. :D\n",
    "\n",
    "\n",
    "if __name__ == '__main__':\n",
    "  main()"
   ]
  },
  {
   "cell_type": "code",
   "execution_count": null,
   "metadata": {},
   "outputs": [],
   "source": []
  }
 ],
 "metadata": {
  "kernelspec": {
   "display_name": "Python 3",
   "language": "python",
   "name": "python3"
  },
  "language_info": {
   "codemirror_mode": {
    "name": "ipython",
    "version": 3
   },
   "file_extension": ".py",
   "mimetype": "text/x-python",
   "name": "python",
   "nbconvert_exporter": "python",
   "pygments_lexer": "ipython3",
   "version": "3.7.3"
  }
 },
 "nbformat": 4,
 "nbformat_minor": 2
}
